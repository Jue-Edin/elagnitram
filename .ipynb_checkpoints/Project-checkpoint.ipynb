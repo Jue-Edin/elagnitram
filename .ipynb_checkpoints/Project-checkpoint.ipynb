{
 "cells": [
  {
   "cell_type": "markdown",
   "id": "ef74b948",
   "metadata": {},
   "source": [
    "# 1. Task 1"
   ]
  },
  {
   "cell_type": "markdown",
   "id": "39f93048",
   "metadata": {},
   "source": []
  },
  {
   "cell_type": "code",
   "execution_count": 1,
   "id": "92901b27",
   "metadata": {
    "ExecuteTime": {
     "end_time": "2024-01-26T23:57:52.762867Z",
     "start_time": "2024-01-26T23:57:52.640109Z"
    }
   },
   "outputs": [
    {
     "name": "stdout",
     "output_type": "stream",
     "text": [
      "{'N_pools': 6, 'Rx0': array([100., 100., 100., 100., 100., 100.]), 'Ry0': array([1000., 1000., 1000., 1000., 1000., 1000.]), 'phi': array([0.03, 0.03, 0.03, 0.03, 0.03, 0.03]), 'x_0': 10, 'alpha': 0.95, 'q': 0.7, 'zeta': 0.05, 'batch_size': 1000, 'kappa': [0.25, 0.5, 0.5, 0.45, 0.45, 0.4, 0.3], 'sigma': [1, 0.3, 0.5, 1, 1.25, 2, 4], 'p': [0.45, 0.45, 0.4, 0.38, 0.36, 0.34, 0.3], 'T': 60, 'seed': 4294967143}\n"
     ]
    }
   ],
   "source": [
    "import numpy as np\n",
    "from collections import deque\n",
    "import copy\n",
    "\n",
    "\n",
    "from tqdm import tqdm\n",
    "\n",
    "\n",
    "N_pools = 6\n",
    "\n",
    "params={'N_pools' : N_pools,\n",
    "        'Rx0' : 100*np.ones(N_pools),\n",
    "        'Ry0' : 1000*np.ones(N_pools),\n",
    "        'phi' : 0.03*np.ones(N_pools),\n",
    "        'x_0' : 10,\n",
    "        'alpha' : 0.95,\n",
    "        'q' : 0.7,\n",
    "        'zeta' : 0.05,\n",
    "        'batch_size' : 1_000,\n",
    "        'kappa' : [0.25, 0.5, 0.5, 0.45, 0.45, 0.4, 0.3],\n",
    "        'sigma' : [1, 0.3, 0.5, 1, 1.25, 2, 4],\n",
    "        'p' : [0.45, 0.45, 0.4, 0.38, 0.36, 0.34, 0.3],\n",
    "        'T' : 60, \n",
    "        'seed' : 4294967143}\n",
    "print(params)\n",
    "\n",
    "\n",
    "\n",
    "class amm():\n",
    "\n",
    "    def __init__(self, Rx, Ry, phi):\n",
    "        \"\"\"\n",
    "        instantiate the class\n",
    "\n",
    "        Parameters\n",
    "        ----------\n",
    "        Rx : array (K,)\n",
    "            initial reservese of token-X in each pool\n",
    "        Ry : array (K,)\n",
    "            initial reservese of token-Y in each pool\n",
    "        phi : array (K,)\n",
    "            the pool fee\n",
    "\n",
    "        Returns\n",
    "        -------\n",
    "        None.\n",
    "\n",
    "        \"\"\"\n",
    "        \n",
    "        assert (len(Rx) == len(Ry)) & (len(Ry)==len(phi)), \"length of Rx, Ry, and phi must be the same.\"\n",
    "\n",
    "        self.Rx = 1*Rx\n",
    "        self.Ry = 1*Ry\n",
    "        self.phi = 1*phi\n",
    "        self.N = len(self.Rx)\n",
    "\n",
    "        # number of LP tokens for each pool\n",
    "        self.L = np.sqrt(self.Rx*self.Ry)\n",
    "\n",
    "        # the trader begins with no LP tokens\n",
    "        self.l = np.zeros(len(self.L))\n",
    "\n",
    "    def swap_x_to_y(self, x, quote=False):\n",
    "        \"\"\"\n",
    "        swap token-X for token-Y across all pools simulataneously\n",
    "\n",
    "        Parameters\n",
    "        ----------\n",
    "        x : array (K,)\n",
    "            the amount of token-X to swap in each AMM pool.\n",
    "        quote: bool, optional\n",
    "            deafult is False.\n",
    "            If False, then pool states are updated.\n",
    "            If True, pool states are not updated.\n",
    "\n",
    "        Returns\n",
    "        -------\n",
    "        y : array (K,)\n",
    "            the amount of token-Y you receive from each pool.\n",
    "\n",
    "        \"\"\"\n",
    "        y = (1 - self.phi) * x * self.Ry /(self.Rx + (1 - self.phi) * x)\n",
    "        if not quote:\n",
    "            self.Rx += x\n",
    "            self.Ry -= y\n",
    "\n",
    "        return y\n",
    "\n",
    "    def swap_y_to_x(self, y, quote=False):\n",
    "        \"\"\"\n",
    "        swap token-Y for token-X across all pools simulataneously\n",
    "\n",
    "        Parameters\n",
    "        ----------\n",
    "        y : array (K,)\n",
    "            the amount of token-Y to swap in each AMM pool.\n",
    "        quote: bool, optional\n",
    "            deafult is False.\n",
    "            If False, then pool states are updated.\n",
    "            If True, pool states are not updated.\n",
    "\n",
    "        Returns\n",
    "        -------\n",
    "        x : array (K,)\n",
    "            the amount of token-X you receive from each pool.\n",
    "\n",
    "        \"\"\"\n",
    "        \n",
    "        x = (1 - self.phi) * y * self.Rx /(self.Ry + (1 - self.phi) * y)\n",
    "        if not quote:\n",
    "            self.Rx -= x\n",
    "            self.Ry += y\n",
    "            \n",
    "        return x\n",
    "\n",
    "    def mint(self, x, y):\n",
    "        \"\"\"\n",
    "        mint LP tokens across all pools\n",
    "\n",
    "        Parameters\n",
    "        ----------\n",
    "        x : array (K,)\n",
    "            amount of token-X submitted to each pool.\n",
    "        y : array (K,)\n",
    "            amount of token-Y submitted to each pool.\n",
    "\n",
    "        Returns\n",
    "        -------\n",
    "        l : array (K,)\n",
    "            The amount of LP tokens you receive from each pool.\n",
    "\n",
    "        \"\"\"\n",
    "\n",
    "        for k in range(len(self.Rx)):\n",
    "            assert np.abs(((x[k]/y[k])-self.Rx[k]/self.Ry[k])) < 1e-9, \"pool \" + str(k) + \" has incorrect submission of tokens\"\n",
    "        l = x * self.L / self.Rx\n",
    "        self.L += l\n",
    "        self.l = l\n",
    "        self.Rx += x\n",
    "        self.Ry += y\n",
    "\n",
    "        return l\n",
    "\n",
    "    def swap_and_mint(self, x):\n",
    "        \"\"\"\n",
    "        a method that determines the correct amount of y for each x within the corresponding pool\n",
    "        to swap and then mint tokens with the reamaing x and the y you received\n",
    "\n",
    "        Parameters\n",
    "        ----------\n",
    "        x : array (K,)\n",
    "            amount of token-X you have for each pool.\n",
    "\n",
    "        Returns\n",
    "        -------\n",
    "        l : array (K,)\n",
    "            The amount of LP tokens you receive from each pool.\n",
    "\n",
    "        \"\"\"\n",
    "        \n",
    "        ram = (2 - self.phi) * self.Rx / ((1 - self.phi) * x)\n",
    "        theta = 1 + 0.5*ram * (1 - np.sqrt(1 + 4 / (ram * (2 - self.phi))))\n",
    "        y = self.swap_x_to_y((1-theta)*x)\n",
    "        l = self.mint(theta*x,y)\n",
    "\n",
    "        return l\n",
    "    \n",
    "    def burn_and_swap(self, l):\n",
    "        \"\"\"\n",
    "        a method that burns your LP tokens, then swaps y to x and returns only x\n",
    "\n",
    "        Parameters\n",
    "        ----------\n",
    "        l : array (K,)\n",
    "            amount of LP tokens you have for each pool.\n",
    "\n",
    "        Returns\n",
    "        -------\n",
    "        x : array (K,)\n",
    "            The amount of token-x you receive at the end.\n",
    "\n",
    "        \"\"\"\n",
    "\n",
    "        x,y = self.burn(l)\n",
    "        total_y = np.sum(y)\n",
    "        quote = True\n",
    "        quote_price = np.zeros(len(y))\n",
    "        for i in range(len(y)):\n",
    "            ram_y = np.zeros(len(y))\n",
    "            ram_y[i] = total_y\n",
    "            quote_price[i] = np.sum(self.swap_y_to_x(ram_y,quote=quote))\n",
    "        index = np.argmax(quote_price)\n",
    "        ram_y = np.zeros(len(y))\n",
    "        ram_y[index] = total_y\n",
    "        total_x = np.sum(x + self.swap_y_to_x(ram_y))\n",
    "\n",
    "        return total_x\n",
    "\n",
    "    def burn(self, l):\n",
    "        \"\"\"\n",
    "        burn LP tokens across all pools\n",
    "\n",
    "        Parameters\n",
    "        ----------\n",
    "        l : array (K,)\n",
    "            amount of LP tokens to burn\n",
    "\n",
    "        Returns\n",
    "        -------\n",
    "        x : array (K,)\n",
    "            The amount of token-X received across\n",
    "        y : array (K,)\n",
    "            The amount of token-Y received across\n",
    "\n",
    "        \"\"\"\n",
    "\n",
    "        for k in range(len(self.L)):\n",
    "            assert l[k] <= self.l[k], \"you have insufficient LP tokens\"\n",
    "\n",
    "        x = self.Rx * l / self.L\n",
    "        y = self.Ry * l / self.L\n",
    "        self.l = self.l - l\n",
    "        self.L -= l\n",
    "        self.Rx -= x\n",
    "        self.Ry -= y\n",
    "\n",
    "        return x, y\n",
    "\n",
    "    def simulate(self, kappa, p, sigma, T=1, batch_size=256):\n",
    "        \"\"\"\n",
    "        Simulate trajectories of all AMM pools simultanesouly.\n",
    "\n",
    "        Parameters\n",
    "        ----------\n",
    "        kappa : array (K+1,)\n",
    "            rate of arrival of swap events X->Y and Y->X.\n",
    "            kappa[0,:] is for a common event across all pools\n",
    "        p : array (K+1,2)\n",
    "            probability of swap X to Y event conditional on an event arriving.\n",
    "            p[0,:] is for a common event across all pools\n",
    "        sigma : array (K+1,2)\n",
    "            standard deviation of log volume of swap events.\n",
    "            sigma[0,:] is for a common event across all pools\n",
    "        T : float, optional: default is 1.\n",
    "            The amount of (calendar) time to simulate over\n",
    "        batch_size : int, optional, default is 256.\n",
    "            the number of paths to generate.\n",
    "\n",
    "        Returns\n",
    "        -------\n",
    "        pools : deque, len=batch_size\n",
    "            Each element of the list is the pool state at the end of the simulation for that scenario\n",
    "        Rx_t : deque, len= batch_size\n",
    "            Each element of the list contains a sequence of arrays.\n",
    "            Each array shows the reserves in token-X for all AMM pools after each transaction.\n",
    "        Ry_t : deque, len=batch_size\n",
    "            Each element of the list contains a sequence of arrays.\n",
    "            Each array shows the reserves in token-Y for all AMM pools after each transaction.\n",
    "        v_t : deque, len=batch_size\n",
    "            Each element of the list contains a sequence of arrays.\n",
    "            Each array shows the volumes of the transaction sent to the various AMM pools -- the transaction is\n",
    "            either a swap X for Y or swap Y for X for a single pool, or across all pools at once\n",
    "        event_type_t : deque, len=batch_size\n",
    "            Each element of the list contains a sequence of arrays.\n",
    "            Each array shows the event type. event_type=0 if it is a swap sent to all pools simultaneously,\n",
    "            otherwise, the swap was sent to pool event_type\n",
    "        event_direction_t : deque, len=batch_size\n",
    "            Each element of the list contains a sequence of arrays.\n",
    "            Each array shows the directi of the swap.\n",
    "            event_direction=0 if swap X -> Y\n",
    "            event_direction=1 if swap Y -> X\n",
    "\n",
    "        \"\"\"\n",
    "\n",
    "        # used for generating Poisson random variables for all events\n",
    "        sum_kappa = np.sum(kappa)\n",
    "\n",
    "        # used for thinning the Poisson process\n",
    "        pi = kappa/sum_kappa\n",
    "\n",
    "        # store the list of reservese generated by the simulation\n",
    "        def make_list(batch_size):\n",
    "            x = deque(maxlen=batch_size)\n",
    "            x = [None] * batch_size\n",
    "            return x\n",
    "\n",
    "        Rx_t = make_list(batch_size)\n",
    "        Ry_t = make_list(batch_size)       \n",
    "        v_t = make_list(batch_size)\n",
    "        event_type_t = make_list(batch_size)\n",
    "        event_direction_t = make_list(batch_size)\n",
    "        pools = make_list(batch_size)\n",
    "\n",
    "        for k in tqdm(range(batch_size)):\n",
    "\n",
    "            N = np.random.poisson(lam = sum_kappa*T)\n",
    "\n",
    "            Rx = np.zeros((N,len(self.Rx)))\n",
    "            Ry = np.zeros((N,len(self.Rx)))\n",
    "            v = np.zeros((N,len(self.Rx)))\n",
    "            event_type = np.zeros(N, int)\n",
    "            event_direction = np.zeros(N, int)\n",
    "\n",
    "            pools[k] = copy.deepcopy(self)\n",
    "\n",
    "            for j in range(N):\n",
    "\n",
    "                # generate the type of event associated with each event\n",
    "                event_type[j] = np.random.choice(len(kappa), p=pi)\n",
    "\n",
    "                # the direction of the swap 0 = x-> y, 1 = y -> x\n",
    "                event_direction[j] = int(np.random.rand()< p[event_type[j]])\n",
    "\n",
    "                if event_direction[j] == 0:\n",
    "                    mu = np.zeros(len(pools[k].Rx)) # deposit X and get Y\n",
    "                else:\n",
    "                    mu = np.log(pools[k].Ry/pools[k].Rx) # deposit Y and get X\n",
    "\n",
    "                if event_type[j] == 0:\n",
    "                    # there is a swap across all venues\n",
    "                    v[j,:] = np.exp((mu-0.5*sigma[0]**2) + sigma[0]*np.random.randn() )\n",
    "\n",
    "                else:\n",
    "\n",
    "                    # there is a swap only on a specific venue\n",
    "                    v[j,:] = np.zeros(len(pools[k].Rx))\n",
    "                    mu = mu[event_type[j]-1]\n",
    "                    v[j,event_type[j]-1] = np.exp((mu-0.5*sigma[event_type[j]]**2) \\\n",
    "                                                   + sigma[event_type[j]]*np.random.randn() )\n",
    "\n",
    "                if event_direction[j] == 0:\n",
    "                    pools[k].swap_x_to_y(v[j,:]) # submit X and get Y\n",
    "                else:\n",
    "                    pools[k].swap_y_to_x(v[j,:]) # submit Y and get X\n",
    "\n",
    "                Rx[j,:] = 1*pools[k].Rx\n",
    "                Ry[j,:] = 1*pools[k].Ry\n",
    "\n",
    "            Rx_t[k] = Rx\n",
    "            Ry_t[k] = Ry\n",
    "            v_t[k] = v\n",
    "            event_type_t[k] = event_type\n",
    "            event_direction_t[k] = event_direction\n",
    "\n",
    "        return pools, Rx_t, Ry_t, v_t, event_type_t, event_direction_t"
   ]
  },
  {
   "cell_type": "markdown",
   "id": "251ffcbe",
   "metadata": {},
   "source": [
    "问题: 1.初值(参数)有约束,大于0(貌似不会训练到<=0,所以不考虑),和为10(等比放缩?是否改用五个参数?).\\\n",
    "      2.CVaR不随着训练单调减小(可能是代码bug)"
   ]
  },
  {
   "cell_type": "markdown",
   "id": "3b710a9e",
   "metadata": {},
   "source": [
    "# 2. Task 2"
   ]
  },
  {
   "cell_type": "code",
   "execution_count": 2,
   "id": "0ed05d4d",
   "metadata": {
    "ExecuteTime": {
     "end_time": "2024-01-26T23:58:04.106188Z",
     "start_time": "2024-01-26T23:57:59.391314Z"
    }
   },
   "outputs": [
    {
     "name": "stderr",
     "output_type": "stream",
     "text": [
      "100%|████████████████████████████████████████████████████████████████████████████████████████████| 1000/1000 [00:04<00:00, 213.04it/s]"
     ]
    },
    {
     "name": "stdout",
     "output_type": "stream",
     "text": [
      "Reserves in coin X for scenario 0: [122.01813853 111.4274436  116.29909005 102.56005958 108.44810204\n",
      " 110.43274517]\n",
      "Reserves in coin Y for scenario 0: [ 844.36154371  924.57217329  882.62743239 1002.94379711  943.62240882\n",
      "  925.01935256]\n"
     ]
    },
    {
     "name": "stderr",
     "output_type": "stream",
     "text": [
      "\n"
     ]
    }
   ],
   "source": [
    "# Montecarlo 6 pools\n",
    "\n",
    "\"\"\" Fix the seed \"\"\"\n",
    "np.random.seed (params['seed'])\n",
    "\n",
    "# 参考2.8，先取出初态，t0先x换LP，之后模拟到T，T出换LP，后计算最优化条件\n",
    "\"\"\" Initialise the pools according to percentage\"\"\"\n",
    "Rx0 = params['Rx0']\n",
    "Ry0 = params['Ry0']\n",
    "phi = params['phi']\n",
    "\n",
    "pools = amm(Rx=Rx0 , Ry=Ry0 , phi=phi)\n",
    "\n",
    "\"\"\" X-coins for each pool\"\"\"\n",
    "x_0 = params['x_0']\n",
    "xs_0= [x_0/N_pools for _ in range(N_pools)] \n",
    "\n",
    "\"\"\" Swap and mint \"\"\"\n",
    "l = pools.swap_and_mint(xs_0)\n",
    "\n",
    "\"\"\" Simulate 100 paths of trading in the pools \"\"\"\n",
    "T = params['T']\n",
    "kappa = params['kappa']\n",
    "p = params['p']\n",
    "sigma = params['sigma']\n",
    "batch_size = params['batch_size']\n",
    "end_pools , Rx_t , Ry_t , v_t , event_type_t , event_direction_t =\\\n",
    "pools . simulate ( kappa = kappa , p = p, sigma = sigma , T = T, batch_size =\n",
    "batch_size )\n",
    "print ('Reserves in coin X for scenario 0:', end_pools [0].Rx)\n",
    "print ('Reserves in coin Y for scenario 0:', end_pools [0].Ry)\n",
    "\n"
   ]
  },
  {
   "cell_type": "code",
   "execution_count": 4,
   "id": "2f36a502",
   "metadata": {
    "ExecuteTime": {
     "end_time": "2024-01-27T00:00:27.571429Z",
     "start_time": "2024-01-27T00:00:27.485700Z"
    }
   },
   "outputs": [
    {
     "name": "stdout",
     "output_type": "stream",
     "text": [
      "Average performance :  2.712881335743079\n",
      "Std . Dev . of performance : 23.77270698824873\n"
     ]
    }
   ],
   "source": [
    "\"\"\" Burn and swap all coins into x \"\"\"\n",
    "x_T = np.zeros (batch_size)\n",
    "for k in range (batch_size):\n",
    "    x_T[k] = np.sum (end_pools[k].burn_and_swap(l))\n",
    "x_0 = np.sum(xs_0)\n",
    "log_ret = np.log(x_T) - np.log(x_0)\n",
    "print ('Average performance : ', np . mean ( log_ret ) / T * batch_size )\n",
    "print ('Std . Dev . of performance :', np . std ( log_ret ) / np . sqrt ( T ) * batch_size )"
   ]
  },
  {
   "cell_type": "code",
   "execution_count": 5,
   "id": "586c1b32",
   "metadata": {
    "ExecuteTime": {
     "end_time": "2024-01-27T00:00:32.011162Z",
     "start_time": "2024-01-27T00:00:31.017701Z"
    }
   },
   "outputs": [
    {
     "data": {
      "text/plain": [
       "<AxesSubplot:ylabel='Count'>"
      ]
     },
     "execution_count": 5,
     "metadata": {},
     "output_type": "execute_result"
    },
    {
     "data": {
      "image/png": "[encoded data removed]",
      "text/plain": [
       "<Figure size 432x288 with 1 Axes>"
      ]
     },
     "metadata": {
      "needs_background": "light"
     },
     "output_type": "display_data"
    }
   ],
   "source": [
    "import seaborn as sns\n",
    "import matplotlib.pyplot as plt\n",
    "fig , ax = plt.subplots (1 , 1 )\n",
    "x_0 = np . sum ( xs_0 )\n",
    "log_ret = np . log ( x_T ) - np . log ( x_0 )\n",
    "mean_ret = np . mean ( log_ret ) / T * batch_size\n",
    "std_ret = np . std ( log_ret ) / np . sqrt ( T ) * batch_size\n",
    "# histogram plot\n",
    "sns.histplot ( ax = ax , x = batch_size * log_ret , kde = True )"
   ]
  },
  {
   "cell_type": "code",
   "execution_count": 6,
   "id": "8c73ec64",
   "metadata": {
    "ExecuteTime": {
     "end_time": "2024-01-27T00:00:33.046630Z",
     "start_time": "2024-01-27T00:00:33.041650Z"
    }
   },
   "outputs": [
    {
     "name": "stdout",
     "output_type": "stream",
     "text": [
      "0.03121627321033869 0.837\n"
     ]
    }
   ],
   "source": [
    "# Compute cvar and return's probability\n",
    "alpha = params['alpha']\n",
    "zeta = params['zeta']\n",
    "q = params['q']\n",
    "qtl = np.quantile (-log_ret,alpha)\n",
    "cvar = np.mean (-log_ret[-log_ret >= qtl])\n",
    "prob = np.sum(log_ret > zeta) / batch_size\n",
    "print(cvar,prob)"
   ]
  },
  {
   "cell_type": "code",
   "execution_count": 9,
   "id": "d83156f1",
   "metadata": {
    "ExecuteTime": {
     "end_time": "2024-01-27T00:07:39.944439Z",
     "start_time": "2024-01-27T00:07:11.226620Z"
    }
   },
   "outputs": [
    {
     "name": "stderr",
     "output_type": "stream",
     "text": [
      "100%|████████████████████████████████████████████████████████████████████████████████████████████| 1000/1000 [00:04<00:00, 211.91it/s]\n",
      "100%|████████████████████████████████████████████████████████████████████████████████████████████| 1000/1000 [00:04<00:00, 213.98it/s]\n",
      "100%|████████████████████████████████████████████████████████████████████████████████████████████| 1000/1000 [00:04<00:00, 211.38it/s]\n",
      "100%|████████████████████████████████████████████████████████████████████████████████████████████| 1000/1000 [00:04<00:00, 211.88it/s]\n",
      "100%|████████████████████████████████████████████████████████████████████████████████████████████| 1000/1000 [00:04<00:00, 212.26it/s]\n"
     ]
    },
    {
     "name": "stdout",
     "output_type": "stream",
     "text": [
      "gradient: [-696.18908174    1.39488155  357.8075114  -365.19334178 -134.21950431]\n",
      "Distribution: [1.6527524824550743, 1.6602125759520256, 1.645631473487139, 1.6774933190959536, 1.6541580573567192, 1.7097520916530886]\n"
     ]
    },
    {
     "name": "stderr",
     "output_type": "stream",
     "text": [
      "100%|████████████████████████████████████████████████████████████████████████████████████████████| 1000/1000 [00:04<00:00, 213.01it/s]\n"
     ]
    },
    {
     "name": "stdout",
     "output_type": "stream",
     "text": [
      "Reserves in coin X for scenario 0: [150.20932449 160.65339457 150.70742616 154.88382358 122.66755907\n",
      " 149.4431574 ]\n",
      "Reserves in coin Y for scenario 0: [1004.18130855  941.73503644 1001.86142542  975.14806283 1233.89010336\n",
      " 1013.83021023]\n",
      "Average performance :  1.959356930445042\n",
      "Std . Dev . of performance : 33.01912884875207\n",
      "CVaR: 0.04568849965350299 Probabilty: 0.66\n"
     ]
    }
   ],
   "source": [
    "# we want to minimize cvar but prob>q\n",
    "import copy\n",
    "epsilon = 1e-5\n",
    "delta_x = np.array([1e-5] * 5)\n",
    "new_cvar = np.zeros(N_pools-1)\n",
    "prob = 1\n",
    "LR = 1e-5\n",
    "\n",
    "while prob > q:\n",
    "#     compute gradient by simulation\n",
    "    for n in range(N_pools-1):\n",
    "#     we shouldn't change pools while doing simulation!\n",
    "        pools_G = copy.copy(pools)\n",
    "# the only thing we change here is the distribution of 6 initial value\n",
    "        xs_0_G = xs_0[:]\n",
    "#加一个小量    \n",
    "        xs_0_G[n] +=  delta_x[n]\n",
    "        xs_0_G[-1] -= delta_x[n]\n",
    "        l_G = pools_G.swap_and_mint(xs_0_G)\n",
    "        end_pools , Rx_t , Ry_t , v_t , event_type_t , event_direction_t =\\\n",
    "        pools_G.simulate ( kappa = kappa , p = p, sigma = sigma , T = T, batch_size =\n",
    "        batch_size )\n",
    "        x_T_G = np.zeros (batch_size)\n",
    "        for k in range (batch_size):\n",
    "            x_T_G[k] = np.sum (end_pools[k].burn_and_swap(l_G))\n",
    "        x_0_G = np.sum(xs_0_G)\n",
    "        log_ret = np.log(x_T_G) - np.log(x_0_G)\n",
    "        qtl = np.quantile (-log_ret,alpha)\n",
    "        cvar_G = np.mean (-log_ret[-log_ret >= qtl])\n",
    "        new_cvar[n] = cvar_G\n",
    "    G = (new_cvar - np.ones(N_pools-1)*cvar)/delta_x\n",
    "    print('gradient:',G)\n",
    "\n",
    "#    gradient descending\n",
    "    xs_0[:-1] -= G*LR\n",
    "    xs_0[-1] = x_0 - np.sum(xs_0[:-1])\n",
    "    \n",
    "# # 对原始数组进行等比例放缩\n",
    "#     sum_xs_0 = np.sum(xs_0)\n",
    "#     scale_factor = 10 / sum_xs_0\n",
    "#     xs_0 = xs_0 * scale_factor\n",
    "    print('Distribution:',xs_0)\n",
    "    \n",
    "# use new xs_0 to simulate trading\n",
    "    pools_S = copy.copy(pools)\n",
    "    \"\"\" Swap and mint \"\"\"\n",
    "    l = pools_S.swap_and_mint(xs_0)\n",
    "    \"\"\" Simulate 100 paths of trading in the pools \"\"\"\n",
    "    end_pools , Rx_t , Ry_t , v_t , event_type_t , event_direction_t =\\\n",
    "    pools_S. simulate ( kappa = kappa , p = p, sigma = sigma , T = T, batch_size =\n",
    "    batch_size )\n",
    "    print ('Reserves in coin X for scenario 0:', end_pools [0].Rx)\n",
    "    print ('Reserves in coin Y for scenario 0:', end_pools [0].Ry)\n",
    "    x_T = np.zeros (batch_size)\n",
    "    for k in range (batch_size):\n",
    "        x_T[k] = np.sum (end_pools[k].burn_and_swap(l))\n",
    "    x_0 = np.sum(xs_0)\n",
    "    log_ret = np.log(x_T) - np.log(x_0)\n",
    "    print ('Average performance : ', np . mean ( log_ret ) / T * batch_size )\n",
    "    print ('Std . Dev . of performance :', np . std ( log_ret ) / np . sqrt ( T ) * batch_size )\n",
    "\n",
    "# compute probability\n",
    "    qtl = np.quantile (-log_ret,alpha)\n",
    "    cvar = np.mean (-log_ret[-log_ret >= qtl])\n",
    "    prob = np.sum(log_ret > zeta) / batch_size\n",
    "    print('CVaR:',cvar,'Probabilty:',prob)"
   ]
  },
  {
   "cell_type": "code",
   "execution_count": null,
   "id": "c2c93741",
   "metadata": {},
   "outputs": [],
   "source": []
  },
  {
   "cell_type": "code",
   "execution_count": null,
   "id": "01858c03",
   "metadata": {},
   "outputs": [],
   "source": []
  }
 ],
 "metadata": {
  "kernelspec": {
   "display_name": "Python 3 (ipykernel)",
   "language": "python",
   "name": "python3"
  },
  "language_info": {
   "codemirror_mode": {
    "name": "ipython",
    "version": 3
   },
   "file_extension": ".py",
   "mimetype": "text/x-python",
   "name": "python",
   "nbconvert_exporter": "python",
   "pygments_lexer": "ipython3",
   "version": "3.8.10"
  },
  "toc": {
   "base_numbering": 1,
   "nav_menu": {},
   "number_sections": true,
   "sideBar": true,
   "skip_h1_title": false,
   "title_cell": "Table of Contents",
   "title_sidebar": "Contents",
   "toc_cell": false,
   "toc_position": {},
   "toc_section_display": true,
   "toc_window_display": false
  },
  "varInspector": {
   "cols": {
    "lenName": 16,
    "lenType": 16,
    "lenVar": 40
   },
   "kernels_config": {
    "python": {
     "delete_cmd_postfix": "",
     "delete_cmd_prefix": "del ",
     "library": "var_list.py",
     "varRefreshCmd": "print(var_dic_list())"
    },
    "r": {
     "delete_cmd_postfix": ") ",
     "delete_cmd_prefix": "rm(",
     "library": "var_list.r",
     "varRefreshCmd": "cat(var_dic_list()) "
    }
   },
   "types_to_exclude": [
    "module",
    "function",
    "builtin_function_or_method",
    "instance",
    "_Feature"
   ],
   "window_display": false
  }
 },
 "nbformat": 4,
 "nbformat_minor": 5
}
