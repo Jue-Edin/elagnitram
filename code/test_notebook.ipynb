{
 "cells": [
  {
   "cell_type": "code",
   "execution_count": 1,
   "id": "8721ac33-8435-40fe-b249-12c7a82d407c",
   "metadata": {
    "ExecuteTime": {
     "end_time": "2023-12-20T23:00:32.680504Z",
     "start_time": "2023-12-20T23:00:31.609962Z"
    }
   },
   "outputs": [],
   "source": [
    "from amm import amm\n",
    "import numpy as np\n",
    "\n",
    "import matplotlib.pyplot as plt\n",
    "#plt.style.use('paper.mplstyle')\n",
    "\n",
    "import seaborn as sns\n",
    "sns.set_theme(style=\"ticks\")\n",
    "\n",
    "import statsmodels.api as sm\n",
    "import matplotlib.ticker as mtick"
   ]
  },
  {
   "cell_type": "markdown",
   "id": "980fba8a-713b-4ec0-a9a3-6a612469309c",
   "metadata": {},
   "source": [
    "# Pool configuration"
   ]
  },
  {
   "cell_type": "code",
   "execution_count": 2,
   "id": "fbf4464c-0b90-49a2-a513-c70eb28ff0f4",
   "metadata": {
    "ExecuteTime": {
     "end_time": "2023-12-20T23:00:32.805418Z",
     "start_time": "2023-12-20T23:00:32.790611Z"
    }
   },
   "outputs": [],
   "source": [
    "''' Initial reserves '''\n",
    "Rx0   = np.array([100,   100,   100], float)\n",
    "Ry0   = np.array([1000,  1000,  1000], float)\n",
    "\n",
    "''' Fee rate '''\n",
    "phi   = np.array([0.003, 0.003, 0.003], float)\n",
    "\n",
    "pools = amm(Rx=Rx0, Ry=Ry0, phi=phi)"
   ]
  },
  {
   "cell_type": "code",
   "execution_count": 3,
   "id": "4fd22cdd-6588-4066-b583-6fbea10b2501",
   "metadata": {
    "ExecuteTime": {
     "end_time": "2023-12-20T23:00:33.238809Z",
     "start_time": "2023-12-20T23:00:33.231732Z"
    }
   },
   "outputs": [
    {
     "name": "stdout",
     "output_type": "stream",
     "text": [
      "Available liquidity coins: [316.228 316.228 316.228]\n"
     ]
    }
   ],
   "source": [
    "print('Available liquidity coins:', np.round(pools.L, 3))"
   ]
  },
  {
   "cell_type": "markdown",
   "id": "e80a121d-1516-45ba-9a45-8da10600e37c",
   "metadata": {},
   "source": [
    "# Swapping"
   ]
  },
  {
   "cell_type": "code",
   "execution_count": 4,
   "id": "6e2c1335-3a4c-4a73-aef7-20dd969d245c",
   "metadata": {
    "ExecuteTime": {
     "end_time": "2023-12-20T23:00:34.121825Z",
     "start_time": "2023-12-20T23:00:34.107716Z"
    }
   },
   "outputs": [
    {
     "name": "stdout",
     "output_type": "stream",
     "text": [
      "Obtained Y coins : [9.87 4.96 1.  ]\n",
      "Reserves in X    : [101.  100.5 100.1]\n",
      "Reserves in Y    : [990.13 995.04 999.  ]\n"
     ]
    }
   ],
   "source": [
    "''' Swapping 1   coin-X in pool 1, \n",
    "             0.5 coin-X in pool 2, \n",
    "             0.1 coin-X in pool 3 '''\n",
    "y = pools.swap_x_to_y([1, 0.5, 0.1], quote=False)\n",
    "\n",
    "print('Obtained Y coins :', np.round(y, 2))\n",
    "print('Reserves in X    :', pools.Rx)\n",
    "print('Reserves in Y    :', np.round(pools.Ry, 2))"
   ]
  },
  {
   "cell_type": "markdown",
   "id": "201ae9fd-8c97-4a0e-a8af-a6298b499220",
   "metadata": {},
   "source": [
    "# Minting and burning"
   ]
  },
  {
   "cell_type": "code",
   "execution_count": 5,
   "id": "775c6647-cb30-4722-8be2-c4800925d589",
   "metadata": {
    "ExecuteTime": {
     "end_time": "2023-12-20T23:00:35.503035Z",
     "start_time": "2023-12-20T23:00:35.100405Z"
    },
    "scrolled": true
   },
   "outputs": [
    {
     "ename": "AssertionError",
     "evalue": "pool 0 has incorrect submission of tokens",
     "output_type": "error",
     "traceback": [
      "\u001b[1;31m---------------------------------------------------------------------------\u001b[0m",
      "\u001b[1;31mAssertionError\u001b[0m                            Traceback (most recent call last)",
      "\u001b[1;32m~\\AppData\\Local\\Temp/ipykernel_13916/516473608.py\u001b[0m in \u001b[0;36m<module>\u001b[1;34m\u001b[0m\n\u001b[0;32m      3\u001b[0m \u001b[0mx\u001b[0m \u001b[1;33m=\u001b[0m \u001b[1;33m[\u001b[0m\u001b[1;36m1\u001b[0m\u001b[1;33m,\u001b[0m \u001b[1;36m1\u001b[0m\u001b[1;33m,\u001b[0m \u001b[1;36m1\u001b[0m\u001b[1;33m]\u001b[0m\u001b[1;33m\u001b[0m\u001b[1;33m\u001b[0m\u001b[0m\n\u001b[0;32m      4\u001b[0m \u001b[1;33m\u001b[0m\u001b[0m\n\u001b[1;32m----> 5\u001b[1;33m \u001b[0ml\u001b[0m \u001b[1;33m=\u001b[0m \u001b[0mpools\u001b[0m\u001b[1;33m.\u001b[0m\u001b[0mmint\u001b[0m\u001b[1;33m(\u001b[0m\u001b[0mx\u001b[0m \u001b[1;33m=\u001b[0m \u001b[0mx\u001b[0m\u001b[1;33m,\u001b[0m \u001b[0my\u001b[0m \u001b[1;33m=\u001b[0m \u001b[0mnp\u001b[0m\u001b[1;33m.\u001b[0m\u001b[0mrandom\u001b[0m\u001b[1;33m.\u001b[0m\u001b[0mrand\u001b[0m\u001b[1;33m(\u001b[0m\u001b[1;36m3\u001b[0m\u001b[1;33m)\u001b[0m\u001b[1;33m)\u001b[0m\u001b[1;33m\u001b[0m\u001b[1;33m\u001b[0m\u001b[0m\n\u001b[0m",
      "\u001b[1;32mD:\\Ox\\比赛\\SIAGFME\\code\\amm.py\u001b[0m in \u001b[0;36mmint\u001b[1;34m(self, x, y)\u001b[0m\n\u001b[0;32m    118\u001b[0m \u001b[1;33m\u001b[0m\u001b[0m\n\u001b[0;32m    119\u001b[0m         \u001b[1;32mfor\u001b[0m \u001b[0mk\u001b[0m \u001b[1;32min\u001b[0m \u001b[0mrange\u001b[0m\u001b[1;33m(\u001b[0m\u001b[0mlen\u001b[0m\u001b[1;33m(\u001b[0m\u001b[0mself\u001b[0m\u001b[1;33m.\u001b[0m\u001b[0mRx\u001b[0m\u001b[1;33m)\u001b[0m\u001b[1;33m)\u001b[0m\u001b[1;33m:\u001b[0m\u001b[1;33m\u001b[0m\u001b[1;33m\u001b[0m\u001b[0m\n\u001b[1;32m--> 120\u001b[1;33m             \u001b[1;32massert\u001b[0m \u001b[0mnp\u001b[0m\u001b[1;33m.\u001b[0m\u001b[0mabs\u001b[0m\u001b[1;33m(\u001b[0m\u001b[1;33m(\u001b[0m\u001b[1;33m(\u001b[0m\u001b[0mx\u001b[0m\u001b[1;33m[\u001b[0m\u001b[0mk\u001b[0m\u001b[1;33m]\u001b[0m\u001b[1;33m/\u001b[0m\u001b[0my\u001b[0m\u001b[1;33m[\u001b[0m\u001b[0mk\u001b[0m\u001b[1;33m]\u001b[0m\u001b[1;33m)\u001b[0m\u001b[1;33m-\u001b[0m\u001b[0mself\u001b[0m\u001b[1;33m.\u001b[0m\u001b[0mRx\u001b[0m\u001b[1;33m[\u001b[0m\u001b[0mk\u001b[0m\u001b[1;33m]\u001b[0m\u001b[1;33m/\u001b[0m\u001b[0mself\u001b[0m\u001b[1;33m.\u001b[0m\u001b[0mRy\u001b[0m\u001b[1;33m[\u001b[0m\u001b[0mk\u001b[0m\u001b[1;33m]\u001b[0m\u001b[1;33m)\u001b[0m\u001b[1;33m)\u001b[0m \u001b[1;33m<\u001b[0m \u001b[1;36m1e-9\u001b[0m\u001b[1;33m,\u001b[0m \u001b[1;34m\"pool \"\u001b[0m \u001b[1;33m+\u001b[0m \u001b[0mstr\u001b[0m\u001b[1;33m(\u001b[0m\u001b[0mk\u001b[0m\u001b[1;33m)\u001b[0m \u001b[1;33m+\u001b[0m \u001b[1;34m\" has incorrect submission of tokens\"\u001b[0m\u001b[1;33m\u001b[0m\u001b[1;33m\u001b[0m\u001b[0m\n\u001b[0m\u001b[0;32m    121\u001b[0m         \u001b[0ml\u001b[0m \u001b[1;33m=\u001b[0m \u001b[0mx\u001b[0m \u001b[1;33m*\u001b[0m \u001b[0mself\u001b[0m\u001b[1;33m.\u001b[0m\u001b[0mL\u001b[0m \u001b[1;33m/\u001b[0m \u001b[0mself\u001b[0m\u001b[1;33m.\u001b[0m\u001b[0mRx\u001b[0m\u001b[1;33m\u001b[0m\u001b[1;33m\u001b[0m\u001b[0m\n\u001b[0;32m    122\u001b[0m         \u001b[0mself\u001b[0m\u001b[1;33m.\u001b[0m\u001b[0mL\u001b[0m \u001b[1;33m+=\u001b[0m \u001b[0ml\u001b[0m\u001b[1;33m\u001b[0m\u001b[1;33m\u001b[0m\u001b[0m\n",
      "\u001b[1;31mAssertionError\u001b[0m: pool 0 has incorrect submission of tokens"
     ]
    }
   ],
   "source": [
    "''' Minting with incorrect amount '''\n",
    "\n",
    "x = [1, 1, 1]\n",
    "\n",
    "l = pools.mint(x = x, y = np.random.rand(3))"
   ]
  },
  {
   "cell_type": "code",
   "execution_count": 6,
   "id": "6c5b9e1e-1a1c-4716-bbee-2fd7257f3843",
   "metadata": {
    "ExecuteTime": {
     "end_time": "2023-12-20T23:00:35.719991Z",
     "start_time": "2023-12-20T23:00:35.705916Z"
    }
   },
   "outputs": [
    {
     "name": "stdout",
     "output_type": "stream",
     "text": [
      "Trader liquidity coins : [3.13 3.15 3.16]\n",
      "Pool liquidity coins   : [319.36 319.37 319.39]\n"
     ]
    }
   ],
   "source": [
    "''' Minting with correct amount '''\n",
    "\n",
    "y = x * pools.Ry / pools.Rx\n",
    "\n",
    "l = pools.mint(x = x, y = y)\n",
    "\n",
    "print('Trader liquidity coins :', np.round(pools.l, 2))\n",
    "print('Pool liquidity coins   :', np.round(pools.L, 2))"
   ]
  },
  {
   "cell_type": "code",
   "execution_count": 7,
   "id": "567e7c6c-6b6f-4315-8670-1daa33c1f76d",
   "metadata": {
    "ExecuteTime": {
     "end_time": "2023-12-20T23:00:36.296991Z",
     "start_time": "2023-12-20T23:00:36.278955Z"
    }
   },
   "outputs": [
    {
     "ename": "AssertionError",
     "evalue": "you have insufficient LP tokens",
     "output_type": "error",
     "traceback": [
      "\u001b[1;31m---------------------------------------------------------------------------\u001b[0m",
      "\u001b[1;31mAssertionError\u001b[0m                            Traceback (most recent call last)",
      "\u001b[1;32m~\\AppData\\Local\\Temp/ipykernel_13916/3145653003.py\u001b[0m in \u001b[0;36m<module>\u001b[1;34m\u001b[0m\n\u001b[0;32m      1\u001b[0m \u001b[1;34m''' Burning incorrect amount of LP coins '''\u001b[0m\u001b[1;33m\u001b[0m\u001b[1;33m\u001b[0m\u001b[0m\n\u001b[0;32m      2\u001b[0m \u001b[1;33m\u001b[0m\u001b[0m\n\u001b[1;32m----> 3\u001b[1;33m \u001b[0mx\u001b[0m\u001b[1;33m,\u001b[0m \u001b[0my\u001b[0m \u001b[1;33m=\u001b[0m \u001b[0mpools\u001b[0m\u001b[1;33m.\u001b[0m\u001b[0mburn\u001b[0m\u001b[1;33m(\u001b[0m\u001b[0ml\u001b[0m\u001b[1;33m+\u001b[0m\u001b[1;36m1\u001b[0m\u001b[1;33m)\u001b[0m\u001b[1;33m\u001b[0m\u001b[1;33m\u001b[0m\u001b[0m\n\u001b[0m",
      "\u001b[1;32mD:\\Ox\\比赛\\SIAGFME\\code\\amm.py\u001b[0m in \u001b[0;36mburn\u001b[1;34m(self, l)\u001b[0m\n\u001b[0;32m    205\u001b[0m \u001b[1;33m\u001b[0m\u001b[0m\n\u001b[0;32m    206\u001b[0m         \u001b[1;32mfor\u001b[0m \u001b[0mk\u001b[0m \u001b[1;32min\u001b[0m \u001b[0mrange\u001b[0m\u001b[1;33m(\u001b[0m\u001b[0mlen\u001b[0m\u001b[1;33m(\u001b[0m\u001b[0mself\u001b[0m\u001b[1;33m.\u001b[0m\u001b[0mL\u001b[0m\u001b[1;33m)\u001b[0m\u001b[1;33m)\u001b[0m\u001b[1;33m:\u001b[0m\u001b[1;33m\u001b[0m\u001b[1;33m\u001b[0m\u001b[0m\n\u001b[1;32m--> 207\u001b[1;33m             \u001b[1;32massert\u001b[0m \u001b[0ml\u001b[0m\u001b[1;33m[\u001b[0m\u001b[0mk\u001b[0m\u001b[1;33m]\u001b[0m \u001b[1;33m<=\u001b[0m \u001b[0mself\u001b[0m\u001b[1;33m.\u001b[0m\u001b[0ml\u001b[0m\u001b[1;33m[\u001b[0m\u001b[0mk\u001b[0m\u001b[1;33m]\u001b[0m\u001b[1;33m,\u001b[0m \u001b[1;34m\"you have insufficient LP tokens\"\u001b[0m\u001b[1;33m\u001b[0m\u001b[1;33m\u001b[0m\u001b[0m\n\u001b[0m\u001b[0;32m    208\u001b[0m \u001b[1;33m\u001b[0m\u001b[0m\n\u001b[0;32m    209\u001b[0m         \u001b[0mx\u001b[0m \u001b[1;33m=\u001b[0m \u001b[0mself\u001b[0m\u001b[1;33m.\u001b[0m\u001b[0mRx\u001b[0m \u001b[1;33m*\u001b[0m \u001b[0ml\u001b[0m \u001b[1;33m/\u001b[0m \u001b[0mself\u001b[0m\u001b[1;33m.\u001b[0m\u001b[0mL\u001b[0m\u001b[1;33m\u001b[0m\u001b[1;33m\u001b[0m\u001b[0m\n",
      "\u001b[1;31mAssertionError\u001b[0m: you have insufficient LP tokens"
     ]
    }
   ],
   "source": [
    "''' Burning incorrect amount of LP coins '''\n",
    "\n",
    "x, y = pools.burn(l+1)"
   ]
  },
  {
   "cell_type": "code",
   "execution_count": 8,
   "id": "9bc443ee-b4a4-4b1e-b044-0efce1a20f74",
   "metadata": {
    "ExecuteTime": {
     "end_time": "2023-12-20T23:00:36.835772Z",
     "start_time": "2023-12-20T23:00:36.818798Z"
    }
   },
   "outputs": [],
   "source": [
    "''' Burning correct amount of LP coints '''\n",
    "x, y = pools.burn(l)"
   ]
  },
  {
   "cell_type": "code",
   "execution_count": 9,
   "id": "bbb19aeb-8bf9-49bc-ae17-d0db1a70b09e",
   "metadata": {
    "ExecuteTime": {
     "end_time": "2023-12-20T23:00:37.394354Z",
     "start_time": "2023-12-20T23:00:37.384353Z"
    }
   },
   "outputs": [
    {
     "name": "stdout",
     "output_type": "stream",
     "text": [
      "Trader LP coins        : [0. 0. 0.]\n",
      "Trader X coins         : [1. 1. 1.]\n",
      "Trader Y coins         : [9.8  9.9  9.98]\n",
      "Pool LP coins          : [316.23 316.23 316.23]\n"
     ]
    }
   ],
   "source": [
    "print('Trader LP coins        :', np.round(pools.l, 2))\n",
    "print('Trader X coins         :', np.round(x, 2))\n",
    "print('Trader Y coins         :', np.round(y, 2))\n",
    "print('Pool LP coins          :', np.round(pools.L, 2))"
   ]
  },
  {
   "cell_type": "markdown",
   "id": "44542e6e-0d4a-4c11-9ec3-b32e52d6b260",
   "metadata": {},
   "source": [
    "# Swapping then minting/burning"
   ]
  },
  {
   "cell_type": "code",
   "execution_count": 10,
   "id": "41e72213-3a44-4489-a435-29b9e15ffefb",
   "metadata": {
    "ExecuteTime": {
     "end_time": "2023-12-20T23:00:38.618768Z",
     "start_time": "2023-12-20T23:00:38.607768Z"
    },
    "tags": []
   },
   "outputs": [],
   "source": [
    "''' Swapping 10 coin-X in each pool and minting '''\n",
    "l = pools.swap_and_mint([10, 10, 10])"
   ]
  },
  {
   "cell_type": "code",
   "execution_count": 11,
   "id": "67406e8c-b66e-4c96-8221-c911e06a637d",
   "metadata": {
    "ExecuteTime": {
     "end_time": "2023-12-20T23:00:39.085755Z",
     "start_time": "2023-12-20T23:00:39.068747Z"
    }
   },
   "outputs": [
    {
     "name": "stdout",
     "output_type": "stream",
     "text": [
      "Minted LP coins       : [15.26 15.34 15.4 ]\n",
      "Total trader LP coins : [15.26 15.34 15.4 ]\n",
      "Available LP coins    : [331.49 331.56 331.62]\n"
     ]
    }
   ],
   "source": [
    "print('Minted LP coins       :', np.round(l, 2))\n",
    "print('Total trader LP coins :', np.round(pools.l, 2))\n",
    "print('Available LP coins    :', np.round(pools.L, 2))"
   ]
  },
  {
   "cell_type": "markdown",
   "id": "e03fa2ef-e266-4e7b-b15c-bd99ef9ef279",
   "metadata": {},
   "source": [
    "# Burning then swapping"
   ]
  },
  {
   "cell_type": "code",
   "execution_count": 12,
   "id": "f0f72e33-06b7-497a-acf0-7ac4c885071d",
   "metadata": {
    "ExecuteTime": {
     "end_time": "2023-12-20T23:00:40.467536Z",
     "start_time": "2023-12-20T23:00:40.453539Z"
    },
    "tags": []
   },
   "outputs": [],
   "source": [
    "''' Burning and swapping the l LP coins '''\n",
    "total_x = pools.burn_and_swap(l)"
   ]
  },
  {
   "cell_type": "code",
   "execution_count": 13,
   "id": "fd9de7d3-763d-4049-b8fa-cfc9237c9417",
   "metadata": {
    "ExecuteTime": {
     "end_time": "2023-12-20T23:00:42.106017Z",
     "start_time": "2023-12-20T23:00:42.094813Z"
    },
    "scrolled": true
   },
   "outputs": [
    {
     "name": "stdout",
     "output_type": "stream",
     "text": [
      "Number of X coins received   : 28.796\n",
      "Total trader LP coins        : [0. 0. 0.]\n",
      "Available LP coins           : [316.23 316.23 316.23]\n"
     ]
    }
   ],
   "source": [
    "print('Number of X coins received   :', np.round(total_x, 3))\n",
    "print('Total trader LP coins        :', np.round(pools.l, 2))\n",
    "print('Available LP coins           :', np.round(pools.L, 2))"
   ]
  },
  {
   "cell_type": "markdown",
   "id": "9dfe92f6-6231-4aa8-b953-133f87b9489d",
   "metadata": {},
   "source": [
    "# Simulation example"
   ]
  },
  {
   "cell_type": "code",
   "execution_count": 14,
   "id": "4adc5279-d530-49d7-ac46-59804ec8a4b7",
   "metadata": {
    "ExecuteTime": {
     "end_time": "2023-12-20T23:01:06.243781Z",
     "start_time": "2023-12-20T23:00:59.251749Z"
    }
   },
   "outputs": [
    {
     "name": "stderr",
     "output_type": "stream",
     "text": [
      "100%|█████████████████████████████████████████████████████| 1000/1000 [00:06<00:00, 143.37it/s]"
     ]
    },
    {
     "name": "stdout",
     "output_type": "stream",
     "text": [
      "Reserves in asset X for scenario 0: [ 96.49101693 118.36668868 121.08317029]\n",
      "Reserves in asset Y for scenario 0: [1142.26798192  931.52147691  912.31146597]\n"
     ]
    },
    {
     "name": "stderr",
     "output_type": "stream",
     "text": [
      "\n"
     ]
    }
   ],
   "source": [
    "\"\"\" Fix the seed \"\"\"\n",
    "np.random.seed(999983)\n",
    "\n",
    "\"\"\" Initialise the pools \"\"\"\n",
    "Rx0   = np.array([100,   100,   100], float)\n",
    "Ry0   = np.array([1000,  1000,  1000], float)\n",
    "phi   = np.array([0.003, 0.003, 0.003], float)\n",
    "\n",
    "pools = amm(Rx=Rx0, Ry=Ry0, phi=phi)\n",
    "\n",
    "\"\"\" Swap and mint \"\"\"\n",
    "xs_0 = [10, 10, 10]\n",
    "l    = pools.swap_and_mint(xs_0)\n",
    "\n",
    "\"\"\" Simulate 1000 paths of trading in the pools \"\"\"\n",
    "batch_size = 1_000\n",
    "T          = 60\n",
    "kappa      = np.array([0.6,  0.5,  1,     2])\n",
    "p          = np.array([0.85, 0.3,  0.2,   0.3])\n",
    "sigma      = np.array([0.05, 0.01, 0.025, 0.05])\n",
    "\n",
    "end_pools, Rx_t, Ry_t, v_t, event_type_t, event_direction_t =\\\n",
    "        pools.simulate( kappa = kappa, p = p, sigma = sigma, T = T, batch_size = batch_size)\n",
    "\n",
    "print('Reserves in asset X for scenario 0:', end_pools[0].Rx)\n",
    "print('Reserves in asset Y for scenario 0:', end_pools[0].Ry)"
   ]
  },
  {
   "cell_type": "code",
   "execution_count": 15,
   "id": "aec4b972-8781-4bb4-821f-8618978a3983",
   "metadata": {
    "ExecuteTime": {
     "end_time": "2023-12-20T23:01:30.186647Z",
     "start_time": "2023-12-20T23:01:30.123816Z"
    },
    "tags": []
   },
   "outputs": [],
   "source": [
    "\"\"\" Burn and swap all coins into x \"\"\"\n",
    "x_T = np.zeros(batch_size)\n",
    "for k in range(batch_size):\n",
    "    x_T[k] = np.sum(end_pools[k].burn_and_swap(l))"
   ]
  },
  {
   "cell_type": "code",
   "execution_count": null,
   "id": "a5c2a20d-547d-4cda-a31a-b86dcb38d95a",
   "metadata": {
    "ExecuteTime": {
     "end_time": "2023-12-20T22:47:08.676250Z",
     "start_time": "2023-12-20T22:47:08.676250Z"
    }
   },
   "outputs": [],
   "source": [
    "x_0      = np.sum(xs_0)\n",
    "log_ret  = np.log(x_T) - np.log(x_0) # performance / log return\n",
    "\n",
    "print('Average performance     :', np.mean(log_ret)/T*100)\n",
    "print('Std. Dev. of performance:', np.std(log_ret)/np.sqrt(T)*100)"
   ]
  },
  {
   "cell_type": "markdown",
   "id": "376e077b-8bf8-4713-9008-99d201c92cab",
   "metadata": {},
   "source": [
    "# Plot the performance distribution"
   ]
  },
  {
   "cell_type": "code",
   "execution_count": null,
   "id": "f097a3fb-a434-4626-a043-1daeb9d21e0b",
   "metadata": {
    "ExecuteTime": {
     "end_time": "2023-12-20T22:47:08.677249Z",
     "start_time": "2023-12-20T22:47:08.677249Z"
    }
   },
   "outputs": [],
   "source": [
    "fig, ax = plt.subplots(1, 1, sharex=True, figsize=(5,4), sharey=True)\n",
    "\n",
    "x_0      = np.sum(xs_0)\n",
    "log_ret  = np.log(x_T) - np.log(x_0)\n",
    "\n",
    "# histogram plot\n",
    "sns.histplot(ax=ax, x=100*log_ret, kde=True)\n",
    "ax.set_xlabel(r'$Return$')\n",
    "\n",
    "# compute cvar\n",
    "alpha = 0.95 # 95% \n",
    "qtl   = -np.quantile(log_ret, 1-alpha)\n",
    "cvar  = np.mean(-log_ret[-log_ret>=qtl])\n",
    "\n",
    "zeta  = 0.05 # 5% \n",
    "ax.axvline(zeta*100, linestyle='--', color='lime', label=r\"$\\zeta = 5\\%$\")\n",
    "ax.axvline(-cvar*100, linestyle='--', color='red', label=r'$- CVaR_\\alpha\\approx$'+f'$-{round(100*cvar, 2)}\\%$')\n",
    "\n",
    "ax.xaxis.set_major_formatter(mtick.PercentFormatter())\n",
    "\n",
    "plt.legend(handlelength=0.8, framealpha=0.4, loc='upper left')\n",
    "plt.tight_layout()\n",
    "plt.savefig('cvar.pdf')\n",
    "plt.show()"
   ]
  },
  {
   "cell_type": "markdown",
   "id": "8a8dc580-f3f1-404e-bcc9-1e9a5e2b0491",
   "metadata": {},
   "source": [
    "# Other plots"
   ]
  },
  {
   "cell_type": "markdown",
   "id": "3dfa7ee6-2a4d-43cb-a8e2-c5ef97dfbef2",
   "metadata": {},
   "source": [
    "#### Visualize price reserve simulation paths"
   ]
  },
  {
   "cell_type": "code",
   "execution_count": null,
   "id": "a4b135d4-6b07-4aab-9729-ca5b82350ed8",
   "metadata": {
    "ExecuteTime": {
     "end_time": "2023-12-20T22:47:08.678248Z",
     "start_time": "2023-12-20T22:47:08.678248Z"
    },
    "tags": []
   },
   "outputs": [],
   "source": [
    "fig, ax = plt.subplots(nrows=1, ncols=3, sharex=True, figsize=(8,4))\n",
    "\n",
    "j = 4\n",
    "\n",
    "# reserves of coin-X\n",
    "ax[0].plot(np.array(Rx_t[j]))\n",
    "ax[0].set_ylabel(r'$R^X_t$', fontsize=16)\n",
    "\n",
    "# reserves of coin-Y\n",
    "ax[1].plot(np.array(Ry_t[j]))\n",
    "ax[1].set_ylabel(r'$R^Y_t$', fontsize=16)\n",
    "\n",
    "# marginal price\n",
    "ax[2].plot(np.array(Rx_t[j])/np.array(Ry_t[j]))\n",
    "ax[2].set_ylabel(r'$R^X_t/R^Y_t$', fontsize=16)\n",
    "\n",
    "fig.add_subplot(111, frameon=False)\n",
    "plt.tick_params(labelcolor='none', which='both', top=False, bottom=False, left=False, right=False)\n",
    "plt.xlabel(r'$t$ (event)', fontsize=16)\n",
    "\n",
    "plt.tight_layout(pad=1.1)\n",
    "plt.show()"
   ]
  },
  {
   "cell_type": "markdown",
   "id": "91b0b82b-90be-49b0-91a0-95dc8209487f",
   "metadata": {},
   "source": [
    "#### Histogram of terminal marginal prices"
   ]
  },
  {
   "cell_type": "code",
   "execution_count": null,
   "id": "c21504b3-20dc-4c0d-ac2a-b9ac638a52b1",
   "metadata": {
    "ExecuteTime": {
     "end_time": "2023-12-20T22:47:08.678248Z",
     "start_time": "2023-12-20T22:47:08.678248Z"
    },
    "tags": []
   },
   "outputs": [],
   "source": [
    "#%% plot histogram of terminal marginal price\n",
    "Rx_T = np.zeros((batch_size,len(pools.Rx)))\n",
    "Ry_T = np.zeros((batch_size,len(pools.Rx)))\n",
    "\n",
    "for k in range(batch_size):\n",
    "    Rx_T[k,:] = Rx_t[k][-1]\n",
    "    Ry_T[k,:] = Ry_t[k][-1]\n",
    "\n",
    "# initial marginal price\n",
    "P_0 = pools.Rx / pools.Ry\n",
    "\n",
    "# terminal marginal price\n",
    "P_T = Rx_T / Ry_T\n",
    "\n",
    "fig, ax = plt.subplots(nrows=1, ncols=len(Rx0), sharex=True, figsize=(8,3), sharey=True)\n",
    "\n",
    "for k in range(len(Rx0)):\n",
    "    log_ret  = np.log(P_T[:,k]/P_0[k]) # log return of the marginal price\n",
    "    mean_ret = np.mean(log_ret)/T*100\n",
    "    std_ret  = np.std(log_ret)/np.sqrt(T)*100\n",
    "    \n",
    "    # histogram plot\n",
    "    sns.histplot(ax=ax[k], x=P_T[:,k], kde=True)\n",
    "    ax[k].axvline(np.mean(P_T[:,k]), linestyle='--', color='k')\n",
    "    ax[k].set_title('$r={:.2f}'.format(mean_ret) +', vol={:.2f}'.format(std_ret) + '$', fontsize=12)\n",
    "    ax[k].set_xlabel(r'$P_T$')\n",
    "    \n",
    "plt.tight_layout()\n",
    "plt.show()"
   ]
  },
  {
   "cell_type": "code",
   "execution_count": null,
   "id": "9c4fca86-67f0-45e6-94bc-09f33b702ddb",
   "metadata": {},
   "outputs": [],
   "source": []
  }
 ],
 "metadata": {
  "kernelspec": {
   "display_name": "Python 3 (ipykernel)",
   "language": "python",
   "name": "python3"
  },
  "language_info": {
   "codemirror_mode": {
    "name": "ipython",
    "version": 3
   },
   "file_extension": ".py",
   "mimetype": "text/x-python",
   "name": "python",
   "nbconvert_exporter": "python",
   "pygments_lexer": "ipython3",
   "version": "3.8.10"
  },
  "toc": {
   "base_numbering": 1,
   "nav_menu": {},
   "number_sections": true,
   "sideBar": true,
   "skip_h1_title": false,
   "title_cell": "Table of Contents",
   "title_sidebar": "Contents",
   "toc_cell": false,
   "toc_position": {},
   "toc_section_display": true,
   "toc_window_display": false
  }
 },
 "nbformat": 4,
 "nbformat_minor": 5
}
